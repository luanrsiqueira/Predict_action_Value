{
  "nbformat": 4,
  "nbformat_minor": 0,
  "metadata": {
    "colab": {
      "name": "Predict_action_MC.ipynb",
      "provenance": []
    },
    "kernelspec": {
      "name": "python3",
      "display_name": "Python 3"
    }
  },
  "cells": [
    {
      "cell_type": "code",
      "metadata": {
        "id": "k8LbPtx8RdrX"
      },
      "source": [
        "#Importando as bibliotecas necessárias\n",
        "import numpy as np\n",
        "import pandas as pd\n",
        "import matplotlib.pyplot as plt\n",
        "from pandas_datareader import data as wb\n",
        "from scipy.stats import norm\n",
        "%matplotlib inline"
      ],
      "execution_count": 43,
      "outputs": []
    },
    {
      "cell_type": "code",
      "metadata": {
        "id": "GqW07FzYSgyl"
      },
      "source": [
        "#Obtendo os dados do fechamento ajustado do Bitcoin a partir de 01/01/2018 até o dia 13/11/2020\n",
        "btc = 'BTC-USD'\n",
        "data = pd.DataFrame()\n",
        "data[btc] = wb.DataReader(btc, data_source='yahoo', start='2018-1-1', end='2020-11-13')['Adj Close']"
      ],
      "execution_count": 44,
      "outputs": []
    },
    {
      "cell_type": "code",
      "metadata": {
        "id": "RdKvv0YfS_Gc"
      },
      "source": [
        "# Estimando o retorno logaritmico históórico\n",
        "log_returns = np.log(1 + data.pct_change())\n",
        "log_returns.tail()"
      ],
      "execution_count": null,
      "outputs": []
    },
    {
      "cell_type": "code",
      "metadata": {
        "id": "8e9cE2yoTd-w"
      },
      "source": [
        "data.plot(figsize=(10,6))"
      ],
      "execution_count": null,
      "outputs": []
    },
    {
      "cell_type": "code",
      "metadata": {
        "id": "a5qXwzCTTpKB"
      },
      "source": [
        "log_returns.plot(figsize=(10,6))"
      ],
      "execution_count": null,
      "outputs": []
    },
    {
      "cell_type": "code",
      "metadata": {
        "id": "8YZXt7noTyuD"
      },
      "source": [
        "# Retorno médio\n",
        "med = log_returns.mean()\n",
        "med"
      ],
      "execution_count": null,
      "outputs": []
    },
    {
      "cell_type": "code",
      "metadata": {
        "id": "31T2dgMPUMQn"
      },
      "source": [
        "# Variância\n",
        "var  = log_returns.var()\n",
        "var"
      ],
      "execution_count": null,
      "outputs": []
    },
    {
      "cell_type": "code",
      "metadata": {
        "id": "6uraMYHJU39-"
      },
      "source": [
        "# Cálculo do drift (aproximação de taxas futuras de retorno de ações)\n",
        "drift  = u - (0.5 * var)\n",
        "drift"
      ],
      "execution_count": null,
      "outputs": []
    },
    {
      "cell_type": "code",
      "metadata": {
        "id": "uwBC6jAtVOxj"
      },
      "source": [
        "# Desvio padrão do retorno logaritmico\n",
        "stdev = log_returns.std()\n",
        "stdev"
      ],
      "execution_count": null,
      "outputs": []
    },
    {
      "cell_type": "code",
      "metadata": {
        "id": "8uXL2HmZVwTF"
      },
      "source": [
        "# Convertendo os objetos para um array\n",
        "drift.values\n",
        "stdev.values"
      ],
      "execution_count": null,
      "outputs": []
    },
    {
      "cell_type": "code",
      "metadata": {
        "id": "zcb9amcQa4tq"
      },
      "source": [
        "norm.ppf(0.95)"
      ],
      "execution_count": null,
      "outputs": []
    },
    {
      "cell_type": "code",
      "metadata": {
        "id": "LEcDgwecXb9Y"
      },
      "source": [
        "intervals = 1000 # Previsão do preço da ação para os próximos mil dias\n",
        "iterations = 10 # Produzir 10 séries de previsões futuras"
      ],
      "execution_count": 69,
      "outputs": []
    },
    {
      "cell_type": "code",
      "metadata": {
        "id": "VqH5mRShXzl6"
      },
      "source": [
        "# Retornos diários\n",
        "daily_returns = np.exp(drift.values + stdev.values * norm.ppf(np.random.rand(intervals, iterations)))\n",
        "daily_returns"
      ],
      "execution_count": null,
      "outputs": []
    },
    {
      "cell_type": "code",
      "metadata": {
        "id": "8UfYI2uDYX2E"
      },
      "source": [
        "# Preço da ação do último dia\n",
        "s0 = data.iloc[-1]\n",
        "s0"
      ],
      "execution_count": null,
      "outputs": []
    },
    {
      "cell_type": "code",
      "metadata": {
        "id": "hOjyD2igYnBJ"
      },
      "source": [
        "price_list = np.zeros_like(daily_returns)\n",
        "price_list"
      ],
      "execution_count": null,
      "outputs": []
    },
    {
      "cell_type": "code",
      "metadata": {
        "id": "Fe_5areVY4tf"
      },
      "source": [
        "price_list[0] = s0\n",
        "price_list"
      ],
      "execution_count": null,
      "outputs": []
    },
    {
      "cell_type": "code",
      "metadata": {
        "id": "xwBmkSpeZCB4"
      },
      "source": [
        "for t in range(1, intervals):\n",
        "  price_list[t] = price_list[t -1] * daily_returns[t]\n",
        "price_list"
      ],
      "execution_count": null,
      "outputs": []
    },
    {
      "cell_type": "code",
      "metadata": {
        "id": "ASiB_H98ZUVX"
      },
      "source": [
        "# 10 possíveis caminhos do preço futuro do bitcoin\n",
        "plt.figure(figsize=(10,6))\n",
        "plt.grid()\n",
        "plt.plot(price_list)"
      ],
      "execution_count": null,
      "outputs": []
    }
  ]
}